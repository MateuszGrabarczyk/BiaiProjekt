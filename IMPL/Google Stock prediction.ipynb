{
 "cells": [
  {
   "cell_type": "code",
   "execution_count": 1,
   "id": "a00b9075",
   "metadata": {},
   "outputs": [],
   "source": [
    "#Import some required imp libraries\n",
    "import pandas as pd\n",
    "import numpy as np\n",
    "import matplotlib.pyplot as plt\n",
    "from keras import layers\n",
    "from keras.layers import LSTM, Dense, Dropout"
   ]
  },
  {
   "cell_type": "code",
   "execution_count": 2,
   "id": "5be21cf9",
   "metadata": {},
   "outputs": [],
   "source": [
    "train_data = pd.read_csv('Google_Stock_Price_Train.csv')\n",
    "test_data1 = pd.read_csv('Google_Stock_Price_Test.csv')"
   ]
  },
  {
   "cell_type": "code",
   "execution_count": 3,
   "id": "38aca8bb",
   "metadata": {},
   "outputs": [
    {
     "name": "stdout",
     "output_type": "stream",
     "text": [
      "train_data has no duplicates\n",
      "test_data1 has no duplicates\n"
     ]
    }
   ],
   "source": [
    "# Check for duplicates in train_data\n",
    "if train_data.duplicated().any():\n",
    "    train_data.drop_duplicates(inplace=True)\n",
    "    print(\"Duplicates removed from train_data\")\n",
    "else:\n",
    "    print(\"train_data has no duplicates\")\n",
    "\n",
    "# Check for duplicates in test_data1\n",
    "if test_data1.duplicated().any():\n",
    "    test_data1.drop_duplicates(inplace=True)\n",
    "    print(\"Duplicates removed from test_data1\")\n",
    "else:\n",
    "    print(\"test_data1 has no duplicates\")"
   ]
  },
  {
   "cell_type": "code",
   "execution_count": 4,
   "id": "09e0e3cf",
   "metadata": {},
   "outputs": [
    {
     "name": "stdout",
     "output_type": "stream",
     "text": [
      "train_data's Close column has no negative values\n",
      "test_data1's Close column has no negative values\n"
     ]
    }
   ],
   "source": [
    "# Check for negative values in Close column of train_data\n",
    "if (train_data['Close'] < 0).any():\n",
    "    print(\"train_data's Close column has negative values\")\n",
    "else:\n",
    "    print(\"train_data's Close column has no negative values\")\n",
    "\n",
    "# Check for negative values in Close column of test_data1\n",
    "if (test_data1['Close'] < 0).any():\n",
    "    print(\"test_data1's Close column has negative values\")\n",
    "else:\n",
    "    print(\"test_data1's Close column has no negative values\")"
   ]
  },
  {
   "cell_type": "code",
   "execution_count": 5,
   "id": "a1f10065",
   "metadata": {},
   "outputs": [
    {
     "name": "stdout",
     "output_type": "stream",
     "text": [
      "train_data's Close column does not have values greater than its High column\n",
      "test_data1's Close column does not have values greater than its High column\n"
     ]
    }
   ],
   "source": [
    "# Check for Close values greater than High values in train_data\n",
    "if (train_data['Close'] > train_data['High']).any():\n",
    "    print(\"train_data's Close column has values greater than its High column\")\n",
    "else:\n",
    "    print(\"train_data's Close column does not have values greater than its High column\")\n",
    "\n",
    "# Check for Close values greater than High values in test_data1\n",
    "if (test_data1['Close'] > test_data1['High']).any():\n",
    "    print(\"test_data1's Close column has values greater than its High column\")\n",
    "else:\n",
    "    print(\"test_data1's Close column does not have values greater than its High column\")"
   ]
  },
  {
   "cell_type": "code",
   "execution_count": 6,
   "id": "ff3bfa08",
   "metadata": {},
   "outputs": [
    {
     "name": "stdout",
     "output_type": "stream",
     "text": [
      "train_data's Close column does not have values lower than its Low column\n",
      "test_data1's Close column does not have values lower than its Low column\n"
     ]
    }
   ],
   "source": [
    "# Check for Close values less than Low values in train_data\n",
    "if (train_data['Close'] < train_data['Low']).any():\n",
    "    print(\"train_data's Close column has values lower than its Low column\")\n",
    "else:\n",
    "    print(\"train_data's Close column does not have values lower than its Low column\")\n",
    "\n",
    "# Check for Close values less than Low values in test_data1\n",
    "if (test_data1['Close'] < test_data1['Low']).any():\n",
    "    print(\"test_data1's Close column has values lower than its Low column\")\n",
    "else:\n",
    "    print(\"test_data1's Close column does not have values lower than its Low column\")"
   ]
  },
  {
   "cell_type": "code",
   "execution_count": 7,
   "id": "e912ea82",
   "metadata": {},
   "outputs": [
    {
     "data": {
      "text/html": [
       "<div>\n",
       "<style scoped>\n",
       "    .dataframe tbody tr th:only-of-type {\n",
       "        vertical-align: middle;\n",
       "    }\n",
       "\n",
       "    .dataframe tbody tr th {\n",
       "        vertical-align: top;\n",
       "    }\n",
       "\n",
       "    .dataframe thead th {\n",
       "        text-align: right;\n",
       "    }\n",
       "</style>\n",
       "<table border=\"1\" class=\"dataframe\">\n",
       "  <thead>\n",
       "    <tr style=\"text-align: right;\">\n",
       "      <th></th>\n",
       "      <th>Date</th>\n",
       "      <th>Open</th>\n",
       "      <th>High</th>\n",
       "      <th>Low</th>\n",
       "      <th>Close</th>\n",
       "      <th>Volume</th>\n",
       "    </tr>\n",
       "  </thead>\n",
       "  <tbody>\n",
       "    <tr>\n",
       "      <th>0</th>\n",
       "      <td>1/3/2017</td>\n",
       "      <td>778.81</td>\n",
       "      <td>789.63</td>\n",
       "      <td>775.80</td>\n",
       "      <td>786.14</td>\n",
       "      <td>1,657,300</td>\n",
       "    </tr>\n",
       "    <tr>\n",
       "      <th>1</th>\n",
       "      <td>1/4/2017</td>\n",
       "      <td>788.36</td>\n",
       "      <td>791.34</td>\n",
       "      <td>783.16</td>\n",
       "      <td>786.90</td>\n",
       "      <td>1,073,000</td>\n",
       "    </tr>\n",
       "    <tr>\n",
       "      <th>2</th>\n",
       "      <td>1/5/2017</td>\n",
       "      <td>786.08</td>\n",
       "      <td>794.48</td>\n",
       "      <td>785.02</td>\n",
       "      <td>794.02</td>\n",
       "      <td>1,335,200</td>\n",
       "    </tr>\n",
       "    <tr>\n",
       "      <th>3</th>\n",
       "      <td>1/6/2017</td>\n",
       "      <td>795.26</td>\n",
       "      <td>807.90</td>\n",
       "      <td>792.20</td>\n",
       "      <td>806.15</td>\n",
       "      <td>1,640,200</td>\n",
       "    </tr>\n",
       "    <tr>\n",
       "      <th>4</th>\n",
       "      <td>1/9/2017</td>\n",
       "      <td>806.40</td>\n",
       "      <td>809.97</td>\n",
       "      <td>802.83</td>\n",
       "      <td>806.65</td>\n",
       "      <td>1,272,400</td>\n",
       "    </tr>\n",
       "    <tr>\n",
       "      <th>5</th>\n",
       "      <td>1/10/2017</td>\n",
       "      <td>807.86</td>\n",
       "      <td>809.13</td>\n",
       "      <td>803.51</td>\n",
       "      <td>804.79</td>\n",
       "      <td>1,176,800</td>\n",
       "    </tr>\n",
       "    <tr>\n",
       "      <th>6</th>\n",
       "      <td>1/11/2017</td>\n",
       "      <td>805.00</td>\n",
       "      <td>808.15</td>\n",
       "      <td>801.37</td>\n",
       "      <td>807.91</td>\n",
       "      <td>1,065,900</td>\n",
       "    </tr>\n",
       "    <tr>\n",
       "      <th>7</th>\n",
       "      <td>1/12/2017</td>\n",
       "      <td>807.14</td>\n",
       "      <td>807.39</td>\n",
       "      <td>799.17</td>\n",
       "      <td>806.36</td>\n",
       "      <td>1,353,100</td>\n",
       "    </tr>\n",
       "    <tr>\n",
       "      <th>8</th>\n",
       "      <td>1/13/2017</td>\n",
       "      <td>807.48</td>\n",
       "      <td>811.22</td>\n",
       "      <td>806.69</td>\n",
       "      <td>807.88</td>\n",
       "      <td>1,099,200</td>\n",
       "    </tr>\n",
       "    <tr>\n",
       "      <th>9</th>\n",
       "      <td>1/17/2017</td>\n",
       "      <td>807.08</td>\n",
       "      <td>807.14</td>\n",
       "      <td>800.37</td>\n",
       "      <td>804.61</td>\n",
       "      <td>1,362,100</td>\n",
       "    </tr>\n",
       "    <tr>\n",
       "      <th>10</th>\n",
       "      <td>1/18/2017</td>\n",
       "      <td>805.81</td>\n",
       "      <td>806.21</td>\n",
       "      <td>800.99</td>\n",
       "      <td>806.07</td>\n",
       "      <td>1,294,400</td>\n",
       "    </tr>\n",
       "    <tr>\n",
       "      <th>11</th>\n",
       "      <td>1/19/2017</td>\n",
       "      <td>805.12</td>\n",
       "      <td>809.48</td>\n",
       "      <td>801.80</td>\n",
       "      <td>802.17</td>\n",
       "      <td>919,300</td>\n",
       "    </tr>\n",
       "    <tr>\n",
       "      <th>12</th>\n",
       "      <td>1/20/2017</td>\n",
       "      <td>806.91</td>\n",
       "      <td>806.91</td>\n",
       "      <td>801.69</td>\n",
       "      <td>805.02</td>\n",
       "      <td>1,670,000</td>\n",
       "    </tr>\n",
       "    <tr>\n",
       "      <th>13</th>\n",
       "      <td>1/23/2017</td>\n",
       "      <td>807.25</td>\n",
       "      <td>820.87</td>\n",
       "      <td>803.74</td>\n",
       "      <td>819.31</td>\n",
       "      <td>1,963,600</td>\n",
       "    </tr>\n",
       "    <tr>\n",
       "      <th>14</th>\n",
       "      <td>1/24/2017</td>\n",
       "      <td>822.30</td>\n",
       "      <td>825.90</td>\n",
       "      <td>817.82</td>\n",
       "      <td>823.87</td>\n",
       "      <td>1,474,000</td>\n",
       "    </tr>\n",
       "    <tr>\n",
       "      <th>15</th>\n",
       "      <td>1/25/2017</td>\n",
       "      <td>829.62</td>\n",
       "      <td>835.77</td>\n",
       "      <td>825.06</td>\n",
       "      <td>835.67</td>\n",
       "      <td>1,494,500</td>\n",
       "    </tr>\n",
       "    <tr>\n",
       "      <th>16</th>\n",
       "      <td>1/26/2017</td>\n",
       "      <td>837.81</td>\n",
       "      <td>838.00</td>\n",
       "      <td>827.01</td>\n",
       "      <td>832.15</td>\n",
       "      <td>2,973,900</td>\n",
       "    </tr>\n",
       "    <tr>\n",
       "      <th>17</th>\n",
       "      <td>1/27/2017</td>\n",
       "      <td>834.71</td>\n",
       "      <td>841.95</td>\n",
       "      <td>820.44</td>\n",
       "      <td>823.31</td>\n",
       "      <td>2,965,800</td>\n",
       "    </tr>\n",
       "    <tr>\n",
       "      <th>18</th>\n",
       "      <td>1/30/2017</td>\n",
       "      <td>814.66</td>\n",
       "      <td>815.84</td>\n",
       "      <td>799.80</td>\n",
       "      <td>802.32</td>\n",
       "      <td>3,246,600</td>\n",
       "    </tr>\n",
       "    <tr>\n",
       "      <th>19</th>\n",
       "      <td>1/31/2017</td>\n",
       "      <td>796.86</td>\n",
       "      <td>801.25</td>\n",
       "      <td>790.52</td>\n",
       "      <td>796.79</td>\n",
       "      <td>2,160,600</td>\n",
       "    </tr>\n",
       "  </tbody>\n",
       "</table>\n",
       "</div>"
      ],
      "text/plain": [
       "         Date    Open    High     Low   Close     Volume\n",
       "0    1/3/2017  778.81  789.63  775.80  786.14  1,657,300\n",
       "1    1/4/2017  788.36  791.34  783.16  786.90  1,073,000\n",
       "2    1/5/2017  786.08  794.48  785.02  794.02  1,335,200\n",
       "3    1/6/2017  795.26  807.90  792.20  806.15  1,640,200\n",
       "4    1/9/2017  806.40  809.97  802.83  806.65  1,272,400\n",
       "5   1/10/2017  807.86  809.13  803.51  804.79  1,176,800\n",
       "6   1/11/2017  805.00  808.15  801.37  807.91  1,065,900\n",
       "7   1/12/2017  807.14  807.39  799.17  806.36  1,353,100\n",
       "8   1/13/2017  807.48  811.22  806.69  807.88  1,099,200\n",
       "9   1/17/2017  807.08  807.14  800.37  804.61  1,362,100\n",
       "10  1/18/2017  805.81  806.21  800.99  806.07  1,294,400\n",
       "11  1/19/2017  805.12  809.48  801.80  802.17    919,300\n",
       "12  1/20/2017  806.91  806.91  801.69  805.02  1,670,000\n",
       "13  1/23/2017  807.25  820.87  803.74  819.31  1,963,600\n",
       "14  1/24/2017  822.30  825.90  817.82  823.87  1,474,000\n",
       "15  1/25/2017  829.62  835.77  825.06  835.67  1,494,500\n",
       "16  1/26/2017  837.81  838.00  827.01  832.15  2,973,900\n",
       "17  1/27/2017  834.71  841.95  820.44  823.31  2,965,800\n",
       "18  1/30/2017  814.66  815.84  799.80  802.32  3,246,600\n",
       "19  1/31/2017  796.86  801.25  790.52  796.79  2,160,600"
      ]
     },
     "execution_count": 7,
     "metadata": {},
     "output_type": "execute_result"
    }
   ],
   "source": [
    "# How the test dataset looks\n",
    "test_data1"
   ]
  },
  {
   "cell_type": "code",
   "execution_count": 8,
   "id": "26605897",
   "metadata": {},
   "outputs": [
    {
     "data": {
      "text/html": [
       "<div>\n",
       "<style scoped>\n",
       "    .dataframe tbody tr th:only-of-type {\n",
       "        vertical-align: middle;\n",
       "    }\n",
       "\n",
       "    .dataframe tbody tr th {\n",
       "        vertical-align: top;\n",
       "    }\n",
       "\n",
       "    .dataframe thead th {\n",
       "        text-align: right;\n",
       "    }\n",
       "</style>\n",
       "<table border=\"1\" class=\"dataframe\">\n",
       "  <thead>\n",
       "    <tr style=\"text-align: right;\">\n",
       "      <th></th>\n",
       "      <th>Close</th>\n",
       "    </tr>\n",
       "  </thead>\n",
       "  <tbody>\n",
       "    <tr>\n",
       "      <th>0</th>\n",
       "      <td>786.14</td>\n",
       "    </tr>\n",
       "    <tr>\n",
       "      <th>1</th>\n",
       "      <td>786.90</td>\n",
       "    </tr>\n",
       "    <tr>\n",
       "      <th>2</th>\n",
       "      <td>794.02</td>\n",
       "    </tr>\n",
       "    <tr>\n",
       "      <th>3</th>\n",
       "      <td>806.15</td>\n",
       "    </tr>\n",
       "    <tr>\n",
       "      <th>4</th>\n",
       "      <td>806.65</td>\n",
       "    </tr>\n",
       "    <tr>\n",
       "      <th>5</th>\n",
       "      <td>804.79</td>\n",
       "    </tr>\n",
       "    <tr>\n",
       "      <th>6</th>\n",
       "      <td>807.91</td>\n",
       "    </tr>\n",
       "    <tr>\n",
       "      <th>7</th>\n",
       "      <td>806.36</td>\n",
       "    </tr>\n",
       "    <tr>\n",
       "      <th>8</th>\n",
       "      <td>807.88</td>\n",
       "    </tr>\n",
       "    <tr>\n",
       "      <th>9</th>\n",
       "      <td>804.61</td>\n",
       "    </tr>\n",
       "    <tr>\n",
       "      <th>10</th>\n",
       "      <td>806.07</td>\n",
       "    </tr>\n",
       "    <tr>\n",
       "      <th>11</th>\n",
       "      <td>802.17</td>\n",
       "    </tr>\n",
       "    <tr>\n",
       "      <th>12</th>\n",
       "      <td>805.02</td>\n",
       "    </tr>\n",
       "    <tr>\n",
       "      <th>13</th>\n",
       "      <td>819.31</td>\n",
       "    </tr>\n",
       "    <tr>\n",
       "      <th>14</th>\n",
       "      <td>823.87</td>\n",
       "    </tr>\n",
       "    <tr>\n",
       "      <th>15</th>\n",
       "      <td>835.67</td>\n",
       "    </tr>\n",
       "    <tr>\n",
       "      <th>16</th>\n",
       "      <td>832.15</td>\n",
       "    </tr>\n",
       "    <tr>\n",
       "      <th>17</th>\n",
       "      <td>823.31</td>\n",
       "    </tr>\n",
       "    <tr>\n",
       "      <th>18</th>\n",
       "      <td>802.32</td>\n",
       "    </tr>\n",
       "    <tr>\n",
       "      <th>19</th>\n",
       "      <td>796.79</td>\n",
       "    </tr>\n",
       "  </tbody>\n",
       "</table>\n",
       "</div>"
      ],
      "text/plain": [
       "     Close\n",
       "0   786.14\n",
       "1   786.90\n",
       "2   794.02\n",
       "3   806.15\n",
       "4   806.65\n",
       "5   804.79\n",
       "6   807.91\n",
       "7   806.36\n",
       "8   807.88\n",
       "9   804.61\n",
       "10  806.07\n",
       "11  802.17\n",
       "12  805.02\n",
       "13  819.31\n",
       "14  823.87\n",
       "15  835.67\n",
       "16  832.15\n",
       "17  823.31\n",
       "18  802.32\n",
       "19  796.79"
      ]
     },
     "execution_count": 8,
     "metadata": {},
     "output_type": "execute_result"
    }
   ],
   "source": [
    "test_data= test_data1[['Close']]\n",
    "test_data"
   ]
  },
  {
   "cell_type": "code",
   "execution_count": 9,
   "id": "a22249c4",
   "metadata": {},
   "outputs": [],
   "source": [
    "df = train_data.reset_index()['Close']\n",
    "df_test = test_data.reset_index()['Close']"
   ]
  },
  {
   "cell_type": "code",
   "execution_count": 10,
   "id": "f895241c",
   "metadata": {
    "scrolled": true
   },
   "outputs": [
    {
     "data": {
      "text/plain": [
       "0       333.038025\n",
       "1       334.474487\n",
       "2       329.834839\n",
       "3       325.335327\n",
       "4       311.541534\n",
       "           ...    \n",
       "1253    807.799988\n",
       "1254    809.929993\n",
       "1255    804.570007\n",
       "1256    802.880005\n",
       "1257    792.450012\n",
       "Name: Close, Length: 1258, dtype: float64"
      ]
     },
     "execution_count": 10,
     "metadata": {},
     "output_type": "execute_result"
    }
   ],
   "source": [
    "df"
   ]
  },
  {
   "cell_type": "code",
   "execution_count": 11,
   "id": "27e7f16f",
   "metadata": {},
   "outputs": [
    {
     "data": {
      "text/plain": [
       "Text(0.5, 1.0, 'Stock price from 2012 to 2016')"
      ]
     },
     "execution_count": 11,
     "metadata": {},
     "output_type": "execute_result"
    },
    {
     "data": {
      "image/png": "[encoded data removed]",
      "text/plain": [
       "<Figure size 640x480 with 1 Axes>"
      ]
     },
     "metadata": {},
     "output_type": "display_data"
    }
   ],
   "source": [
    "# Plotting the stock price from 2012 to 2016\n",
    "plt.plot(df, color=\"black\")\n",
    "plt.xlabel(\"Time\")\n",
    "plt.ylabel(\"Stock price\")\n",
    "plt.title(\"Stock price from 2012 to 2016\")"
   ]
  },
  {
   "cell_type": "code",
   "execution_count": 12,
   "id": "b19b0f5f",
   "metadata": {},
   "outputs": [],
   "source": [
    "# Scaling tha data, reshape and convert into numpy array\n",
    "from sklearn.preprocessing import MinMaxScaler\n",
    "scaler=MinMaxScaler(feature_range=(0,1))\n",
    "df1=scaler.fit_transform(np.array(df).reshape(-1,1))\n",
    "df1_test=scaler.fit_transform(np.array(df_test).reshape(-1,1))"
   ]
  },
  {
   "cell_type": "code",
   "execution_count": 13,
   "id": "46a6efd1",
   "metadata": {},
   "outputs": [
    {
     "data": {
      "text/plain": [
       "((1258, 1), (20, 1))"
      ]
     },
     "execution_count": 13,
     "metadata": {},
     "output_type": "execute_result"
    }
   ],
   "source": [
    "df1.shape,df1_test.shape"
   ]
  },
  {
   "cell_type": "code",
   "execution_count": 14,
   "id": "3e39e55e",
   "metadata": {},
   "outputs": [],
   "source": [
    "# convert an array of values into a dataset matrix\n",
    "def create_dataset(dataset, time_step=1):\n",
    "    dataX, dataY = [], []\n",
    "    for i in range(len(dataset)-time_step):\n",
    "        a = dataset[i:(i+time_step), 0]   ###i=0, 0,1,2,3-----99   100 \n",
    "        dataX.append(a)\n",
    "        dataY.append(dataset[i + time_step, 0])\n",
    "    return np.array(dataX), np.array(dataY)"
   ]
  },
  {
   "cell_type": "code",
   "execution_count": 16,
   "id": "85c45298",
   "metadata": {},
   "outputs": [],
   "source": [
    "# reshape into X=t,t+1,t+2,t+3 and Y=t+4\n",
    "time_step = 100\n",
    "x_train, y_train = create_dataset(df1, time_step)"
   ]
  },
  {
   "cell_type": "code",
   "execution_count": 17,
   "id": "199ea5fa",
   "metadata": {},
   "outputs": [
    {
     "data": {
      "text/plain": [
       "((1158, 100), (1158,))"
      ]
     },
     "execution_count": 17,
     "metadata": {},
     "output_type": "execute_result"
    }
   ],
   "source": [
    "x_train.shape,y_train.shape"
   ]
  },
  {
   "cell_type": "code",
   "execution_count": 18,
   "id": "f5548e2a",
   "metadata": {},
   "outputs": [
    {
     "name": "stdout",
     "output_type": "stream",
     "text": [
      "[[0.09575436 0.09833822 0.08999256 ... 0.03758694 0.04538339 0.04016175]\n",
      " [0.09833822 0.08999256 0.08189897 ... 0.04538339 0.04016175 0.02924128]\n",
      " [0.08999256 0.08189897 0.05708709 ... 0.04016175 0.02924128 0.03177107]\n",
      " ...\n",
      " [0.94817742 0.94511948 0.94916672 ... 0.95312404 0.94974234 0.95357373]\n",
      " [0.94511948 0.94916672 0.95098349 ... 0.94974234 0.95357373 0.94393234]\n",
      " [0.94916672 0.95098349 0.95046189 ... 0.95357373 0.94393234 0.94089242]]\n"
     ]
    }
   ],
   "source": [
    "print(x_train)"
   ]
  },
  {
   "cell_type": "code",
   "execution_count": 19,
   "id": "0e466c32",
   "metadata": {},
   "outputs": [],
   "source": [
    "x_train = x_train.reshape((x_train.shape[0], x_train.shape[1], 1))"
   ]
  },
  {
   "cell_type": "code",
   "execution_count": 20,
   "id": "5ffd6705",
   "metadata": {},
   "outputs": [
    {
     "data": {
      "text/plain": [
       "(1158, 100, 1)"
      ]
     },
     "execution_count": 20,
     "metadata": {},
     "output_type": "execute_result"
    }
   ],
   "source": [
    "x_train.shape"
   ]
  },
  {
   "cell_type": "code",
   "execution_count": 21,
   "id": "addf7996",
   "metadata": {},
   "outputs": [],
   "source": [
    "### Create the Stacked LSTM model\n",
    "from tensorflow.keras.models import Sequential\n",
    "from tensorflow.keras.layers import Dense\n",
    "from tensorflow.keras.layers import LSTM\n",
    "from keras.layers import Activation"
   ]
  },
  {
   "cell_type": "code",
   "execution_count": 22,
   "id": "62b94307",
   "metadata": {},
   "outputs": [],
   "source": [
    "model=Sequential()\n",
    "\n",
    "model.add(LSTM(70,return_sequences=True,activation= 'relu',input_shape = (x_train.shape[1],1)))\n",
    "\n",
    "model.add(LSTM(70,return_sequences=True,activation= 'relu'))\n",
    "\n",
    "model.add(LSTM(50))\n",
    "\n",
    "model.add(Dense(1))\n",
    "\n",
    "model.compile(loss='mean_squared_error',optimizer='adam')"
   ]
  },
  {
   "cell_type": "code",
   "execution_count": 23,
   "id": "73c045ee",
   "metadata": {},
   "outputs": [
    {
     "name": "stdout",
     "output_type": "stream",
     "text": [
      "Model: \"sequential\"\n",
      "_________________________________________________________________\n",
      " Layer (type)                Output Shape              Param #   \n",
      "=================================================================\n",
      " lstm (LSTM)                 (None, 100, 70)           20160     \n",
      "                                                                 \n",
      " lstm_1 (LSTM)               (None, 100, 70)           39480     \n",
      "                                                                 \n",
      " lstm_2 (LSTM)               (None, 50)                24200     \n",
      "                                                                 \n",
      " dense (Dense)               (None, 1)                 51        \n",
      "                                                                 \n",
      "=================================================================\n",
      "Total params: 83,891\n",
      "Trainable params: 83,891\n",
      "Non-trainable params: 0\n",
      "_________________________________________________________________\n"
     ]
    }
   ],
   "source": [
    "model.summary()"
   ]
  },
  {
   "cell_type": "code",
   "execution_count": 135,
   "id": "b22f08bb",
   "metadata": {},
   "outputs": [
    {
     "name": "stdout",
     "output_type": "stream",
     "text": [
      "Epoch 1/40\n",
      "37/37 [==============================] - 14s 216ms/step - loss: 0.0538\n",
      "Epoch 2/40\n",
      "37/37 [==============================] - 8s 217ms/step - loss: 0.0021\n",
      "Epoch 3/40\n",
      "37/37 [==============================] - 8s 217ms/step - loss: 0.0017\n",
      "Epoch 4/40\n",
      "37/37 [==============================] - 8s 216ms/step - loss: 0.0018\n",
      "Epoch 5/40\n",
      "37/37 [==============================] - 8s 216ms/step - loss: 0.0017\n",
      "Epoch 6/40\n",
      "37/37 [==============================] - 8s 216ms/step - loss: 0.0016\n",
      "Epoch 7/40\n",
      "37/37 [==============================] - 8s 217ms/step - loss: 0.0015\n",
      "Epoch 8/40\n",
      "37/37 [==============================] - 8s 218ms/step - loss: 0.0014\n",
      "Epoch 9/40\n",
      "37/37 [==============================] - 8s 217ms/step - loss: 0.0014\n",
      "Epoch 10/40\n",
      "37/37 [==============================] - 8s 218ms/step - loss: 0.0012\n",
      "Epoch 11/40\n",
      "37/37 [==============================] - 9s 233ms/step - loss: 0.0011\n",
      "Epoch 12/40\n",
      "37/37 [==============================] - 8s 229ms/step - loss: 0.0013\n",
      "Epoch 13/40\n",
      "37/37 [==============================] - 8s 218ms/step - loss: 0.0010\n",
      "Epoch 14/40\n",
      "37/37 [==============================] - 8s 218ms/step - loss: 0.0010\n",
      "Epoch 15/40\n",
      "37/37 [==============================] - 8s 219ms/step - loss: 9.3641e-04\n",
      "Epoch 16/40\n",
      "37/37 [==============================] - 8s 216ms/step - loss: 9.9803e-04\n",
      "Epoch 17/40\n",
      "37/37 [==============================] - 8s 217ms/step - loss: 9.8507e-04\n",
      "Epoch 18/40\n",
      "37/37 [==============================] - 8s 220ms/step - loss: 8.5157e-04\n",
      "Epoch 19/40\n",
      "37/37 [==============================] - 7s 187ms/step - loss: 9.0409e-04\n",
      "Epoch 20/40\n",
      "37/37 [==============================] - 7s 188ms/step - loss: 0.0011\n",
      "Epoch 21/40\n",
      "37/37 [==============================] - 7s 188ms/step - loss: 8.7510e-04\n",
      "Epoch 22/40\n",
      "37/37 [==============================] - 7s 190ms/step - loss: 8.0420e-04\n",
      "Epoch 23/40\n",
      "37/37 [==============================] - 7s 189ms/step - loss: 7.8913e-04\n",
      "Epoch 24/40\n",
      "37/37 [==============================] - 7s 188ms/step - loss: 7.5853e-04\n",
      "Epoch 25/40\n",
      "37/37 [==============================] - 7s 189ms/step - loss: 6.9265e-04\n",
      "Epoch 26/40\n",
      "37/37 [==============================] - 7s 190ms/step - loss: 6.4767e-04\n",
      "Epoch 27/40\n",
      "37/37 [==============================] - 7s 188ms/step - loss: 7.3485e-04\n",
      "Epoch 28/40\n",
      "37/37 [==============================] - 7s 192ms/step - loss: 6.6756e-04\n",
      "Epoch 29/40\n",
      "37/37 [==============================] - 7s 190ms/step - loss: 6.1727e-04\n",
      "Epoch 30/40\n",
      "37/37 [==============================] - 7s 189ms/step - loss: 5.8475e-04\n",
      "Epoch 31/40\n",
      "37/37 [==============================] - 7s 190ms/step - loss: 4.9876e-04\n",
      "Epoch 32/40\n",
      "37/37 [==============================] - 7s 193ms/step - loss: 5.4085e-04\n",
      "Epoch 33/40\n",
      "37/37 [==============================] - 7s 193ms/step - loss: 4.6322e-04\n",
      "Epoch 34/40\n",
      "37/37 [==============================] - 8s 208ms/step - loss: 5.2334e-04\n",
      "Epoch 35/40\n",
      "37/37 [==============================] - 8s 209ms/step - loss: 4.9302e-04\n",
      "Epoch 36/40\n",
      "37/37 [==============================] - 8s 209ms/step - loss: 4.1991e-04\n",
      "Epoch 37/40\n",
      "37/37 [==============================] - 8s 215ms/step - loss: 4.7218e-04\n",
      "Epoch 38/40\n",
      "37/37 [==============================] - 8s 226ms/step - loss: 3.9798e-04\n",
      "Epoch 39/40\n",
      "37/37 [==============================] - 8s 228ms/step - loss: 4.0801e-04\n",
      "Epoch 40/40\n",
      "37/37 [==============================] - 9s 239ms/step - loss: 3.8516e-04\n"
     ]
    }
   ],
   "source": [
    "history = model.fit(x_train,y_train,epochs=40, batch_size=32)"
   ]
  },
  {
   "cell_type": "code",
   "execution_count": null,
   "id": "c8655677",
   "metadata": {},
   "outputs": [],
   "source": []
  },
  {
   "cell_type": "code",
   "execution_count": 24,
   "id": "03a7f1d9",
   "metadata": {},
   "outputs": [
    {
     "name": "stdout",
     "output_type": "stream",
     "text": [
      "37/37 [==============================] - 3s 52ms/step\n"
     ]
    }
   ],
   "source": [
    "train_predict=model.predict(x_train)"
   ]
  },
  {
   "cell_type": "code",
   "execution_count": 25,
   "id": "0fa379c4",
   "metadata": {},
   "outputs": [
    {
     "data": {
      "text/plain": [
       "array([[786.1522 ],\n",
       "       [786.1524 ],\n",
       "       [786.1526 ],\n",
       "       ...,\n",
       "       [786.4277 ],\n",
       "       [786.42926],\n",
       "       [786.43085]], dtype=float32)"
      ]
     },
     "execution_count": 25,
     "metadata": {},
     "output_type": "execute_result"
    }
   ],
   "source": [
    "#Transformback to original form\n",
    "train_predict=scaler.inverse_transform(train_predict)\n",
    "train_predict"
   ]
  },
  {
   "cell_type": "code",
   "execution_count": 26,
   "id": "17115adb",
   "metadata": {},
   "outputs": [
    {
     "data": {
      "text/plain": [
       "0     333.038025\n",
       "1     334.474487\n",
       "2     329.834839\n",
       "3     325.335327\n",
       "4     311.541534\n",
       "         ...    \n",
       "15    835.670000\n",
       "16    832.150000\n",
       "17    823.310000\n",
       "18    802.320000\n",
       "19    796.790000\n",
       "Name: Close, Length: 1278, dtype: float64"
      ]
     },
     "execution_count": 26,
     "metadata": {},
     "output_type": "execute_result"
    }
   ],
   "source": [
    "total= pd.concat([train_data['Close'], test_data['Close']], axis= 0)\n",
    "total"
   ]
  },
  {
   "cell_type": "code",
   "execution_count": 27,
   "id": "c6ca411c",
   "metadata": {},
   "outputs": [
    {
     "data": {
      "text/plain": [
       "(1278,)"
      ]
     },
     "execution_count": 27,
     "metadata": {},
     "output_type": "execute_result"
    }
   ],
   "source": [
    "total.shape"
   ]
  },
  {
   "cell_type": "code",
   "execution_count": 28,
   "id": "b5ad82f5",
   "metadata": {},
   "outputs": [],
   "source": [
    "test_data1= total[len(total)- len(test_data)-100:].values"
   ]
  },
  {
   "cell_type": "code",
   "execution_count": 29,
   "id": "846e7244",
   "metadata": {},
   "outputs": [
    {
     "data": {
      "text/plain": [
       "array([[808.48999 ],\n",
       "       [808.200012],\n",
       "       [807.049988],\n",
       "       [805.960022],\n",
       "       [801.190002],\n",
       "       [805.419983],\n",
       "       [802.75    ],\n",
       "       [799.650024],\n",
       "       [796.950012],\n",
       "       [796.590027],\n",
       "       [793.599976],\n",
       "       [791.299988],\n",
       "       [793.219971],\n",
       "       [795.820007],\n",
       "       [791.919983],\n",
       "       [789.849976],\n",
       "       [791.400024],\n",
       "       [796.869995],\n",
       "       [808.02002 ],\n",
       "       [807.98999 ],\n",
       "       [802.840027],\n",
       "       [788.47998 ],\n",
       "       [798.820007],\n",
       "       [788.719971],\n",
       "       [790.460022],\n",
       "       [801.22998 ],\n",
       "       [797.969971],\n",
       "       [795.390015],\n",
       "       [799.780029],\n",
       "       [805.030029],\n",
       "       [815.950012],\n",
       "       [814.960022],\n",
       "       [802.650024],\n",
       "       [810.72998 ],\n",
       "       [810.059998],\n",
       "       [802.640015],\n",
       "       [804.059998],\n",
       "       [800.380005],\n",
       "       [802.789978],\n",
       "       [801.22998 ],\n",
       "       [803.080017],\n",
       "       [800.710022],\n",
       "       [814.169983],\n",
       "       [809.570007],\n",
       "       [811.77002 ],\n",
       "       [804.080017],\n",
       "       [804.599976],\n",
       "       [806.840027],\n",
       "       [821.48999 ],\n",
       "       [826.840027],\n",
       "       [821.630005],\n",
       "       [824.059998],\n",
       "       [835.73999 ],\n",
       "       [828.549988],\n",
       "       [822.099976],\n",
       "       [817.349976],\n",
       "       [819.559998],\n",
       "       [809.900024],\n",
       "       [805.47998 ],\n",
       "       [788.419983],\n",
       "       [782.190002],\n",
       "       [781.099976],\n",
       "       [802.030029],\n",
       "       [811.97998 ],\n",
       "       [805.590027],\n",
       "       [780.289978],\n",
       "       [771.75    ],\n",
       "       [753.219971],\n",
       "       [775.159973],\n",
       "       [779.97998 ],\n",
       "       [786.159973],\n",
       "       [775.969971],\n",
       "       [784.799988],\n",
       "       [785.      ],\n",
       "       [779.      ],\n",
       "       [780.22998 ],\n",
       "       [785.789978],\n",
       "       [789.440002],\n",
       "       [775.880005],\n",
       "       [764.330017],\n",
       "       [764.460022],\n",
       "       [778.219971],\n",
       "       [776.179993],\n",
       "       [791.469971],\n",
       "       [795.169983],\n",
       "       [809.450012],\n",
       "       [807.900024],\n",
       "       [815.340027],\n",
       "       [817.890015],\n",
       "       [815.650024],\n",
       "       [809.840027],\n",
       "       [812.5     ],\n",
       "       [815.200012],\n",
       "       [812.200012],\n",
       "       [809.679993],\n",
       "       [807.799988],\n",
       "       [809.929993],\n",
       "       [804.570007],\n",
       "       [802.880005],\n",
       "       [792.450012],\n",
       "       [786.14    ],\n",
       "       [786.9     ],\n",
       "       [794.02    ],\n",
       "       [806.15    ],\n",
       "       [806.65    ],\n",
       "       [804.79    ],\n",
       "       [807.91    ],\n",
       "       [806.36    ],\n",
       "       [807.88    ],\n",
       "       [804.61    ],\n",
       "       [806.07    ],\n",
       "       [802.17    ],\n",
       "       [805.02    ],\n",
       "       [819.31    ],\n",
       "       [823.87    ],\n",
       "       [835.67    ],\n",
       "       [832.15    ],\n",
       "       [823.31    ],\n",
       "       [802.32    ],\n",
       "       [796.79    ]])"
      ]
     },
     "execution_count": 29,
     "metadata": {},
     "output_type": "execute_result"
    }
   ],
   "source": [
    "test_data1 = test_data1.reshape(-1,1)\n",
    "test_data1"
   ]
  },
  {
   "cell_type": "code",
   "execution_count": 30,
   "id": "ed10cafc",
   "metadata": {},
   "outputs": [],
   "source": [
    "test_input= scaler.fit_transform(test_data1)"
   ]
  },
  {
   "cell_type": "code",
   "execution_count": 31,
   "id": "15091502",
   "metadata": {},
   "outputs": [
    {
     "data": {
      "text/plain": [
       "1.0"
      ]
     },
     "execution_count": 31,
     "metadata": {},
     "output_type": "execute_result"
    }
   ],
   "source": [
    "test_input.max()"
   ]
  },
  {
   "cell_type": "code",
   "execution_count": 32,
   "id": "0e1e5ad6",
   "metadata": {},
   "outputs": [],
   "source": [
    "x_test1= []\n",
    "for i in range(100,120):\n",
    "    x_test1.append(test_input[i-100:i, 0])"
   ]
  },
  {
   "cell_type": "code",
   "execution_count": 33,
   "id": "172c5281",
   "metadata": {},
   "outputs": [],
   "source": [
    "x_test= np.array(x_test1)"
   ]
  },
  {
   "cell_type": "code",
   "execution_count": 34,
   "id": "c59debe4",
   "metadata": {},
   "outputs": [
    {
     "data": {
      "text/plain": [
       "(20, 100)"
      ]
     },
     "execution_count": 34,
     "metadata": {},
     "output_type": "execute_result"
    }
   ],
   "source": [
    "x_test.shape"
   ]
  },
  {
   "cell_type": "code",
   "execution_count": 35,
   "id": "016401e4",
   "metadata": {},
   "outputs": [],
   "source": [
    "x_test= x_test.reshape(x_test.shape[0], x_test.shape[1], 1)"
   ]
  },
  {
   "cell_type": "code",
   "execution_count": 36,
   "id": "2b6333f0",
   "metadata": {},
   "outputs": [
    {
     "data": {
      "text/plain": [
       "(20, 100, 1)"
      ]
     },
     "execution_count": 36,
     "metadata": {},
     "output_type": "execute_result"
    }
   ],
   "source": [
    "x_test.shape"
   ]
  },
  {
   "cell_type": "code",
   "execution_count": 37,
   "id": "0957105b",
   "metadata": {},
   "outputs": [
    {
     "name": "stdout",
     "output_type": "stream",
     "text": [
      "1/1 [==============================] - 0s 68ms/step\n"
     ]
    },
    {
     "name": "stderr",
     "output_type": "stream",
     "text": [
      "C:\\Users\\stepo\\AppData\\Local\\Temp\\ipykernel_17124\\675064864.py:4: SettingWithCopyWarning: \n",
      "A value is trying to be set on a copy of a slice from a DataFrame.\n",
      "Try using .loc[row_indexer,col_indexer] = value instead\n",
      "\n",
      "See the caveats in the documentation: https://pandas.pydata.org/pandas-docs/stable/user_guide/indexing.html#returning-a-view-versus-a-copy\n",
      "  test_data['pred'] = pd.DataFrame(predicted_value)\n"
     ]
    }
   ],
   "source": [
    "# Predict the actual prices and predicting prices of stock and their price differences\n",
    "predicted_value= model.predict(x_test)\n",
    "predicted_value= scaler.inverse_transform(predicted_value)\n",
    "test_data['pred'] = pd.DataFrame(predicted_value)"
   ]
  },
  {
   "cell_type": "code",
   "execution_count": null,
   "id": "b183bcb5",
   "metadata": {},
   "outputs": [],
   "source": []
  },
  {
   "cell_type": "code",
   "execution_count": 150,
   "id": "784d1d61",
   "metadata": {},
   "outputs": [
    {
     "data": {
      "text/plain": [
       "array([[801.0279 ],\n",
       "       [794.0599 ],\n",
       "       [789.97455],\n",
       "       [791.5386 ],\n",
       "       [799.1575 ],\n",
       "       [805.6442 ],\n",
       "       [807.84296],\n",
       "       [808.6053 ],\n",
       "       [807.71094],\n",
       "       [807.081  ],\n",
       "       [805.3431 ],\n",
       "       [804.61694],\n",
       "       [802.9785 ],\n",
       "       [803.1213 ],\n",
       "       [809.8235 ],\n",
       "       [817.36255],\n",
       "       [823.13666],\n",
       "       [826.7061 ],\n",
       "       [825.4438 ],\n",
       "       [814.0408 ]], dtype=float32)"
      ]
     },
     "execution_count": 150,
     "metadata": {},
     "output_type": "execute_result"
    }
   ],
   "source": [
    "predicted_value"
   ]
  },
  {
   "cell_type": "code",
   "execution_count": 151,
   "id": "6df8e6b4",
   "metadata": {},
   "outputs": [
    {
     "name": "stderr",
     "output_type": "stream",
     "text": [
      "C:\\Users\\stepo\\AppData\\Local\\Temp\\ipykernel_5192\\3413746803.py:1: SettingWithCopyWarning: \n",
      "A value is trying to be set on a copy of a slice from a DataFrame.\n",
      "Try using .loc[row_indexer,col_indexer] = value instead\n",
      "\n",
      "See the caveats in the documentation: https://pandas.pydata.org/pandas-docs/stable/user_guide/indexing.html#returning-a-view-versus-a-copy\n",
      "  test_data['Diff'] = pd.concat([test_data['Close']-test_data['pred']])\n"
     ]
    }
   ],
   "source": [
    "test_data['Diff'] = pd.concat([test_data['Close']-test_data['pred']])"
   ]
  },
  {
   "cell_type": "code",
   "execution_count": 38,
   "id": "a8daf698",
   "metadata": {},
   "outputs": [
    {
     "data": {
      "text/html": [
       "<div>\n",
       "<style scoped>\n",
       "    .dataframe tbody tr th:only-of-type {\n",
       "        vertical-align: middle;\n",
       "    }\n",
       "\n",
       "    .dataframe tbody tr th {\n",
       "        vertical-align: top;\n",
       "    }\n",
       "\n",
       "    .dataframe thead th {\n",
       "        text-align: right;\n",
       "    }\n",
       "</style>\n",
       "<table border=\"1\" class=\"dataframe\">\n",
       "  <thead>\n",
       "    <tr style=\"text-align: right;\">\n",
       "      <th></th>\n",
       "      <th>Close</th>\n",
       "      <th>pred</th>\n",
       "    </tr>\n",
       "  </thead>\n",
       "  <tbody>\n",
       "    <tr>\n",
       "      <th>0</th>\n",
       "      <td>786.14</td>\n",
       "      <td>753.503418</td>\n",
       "    </tr>\n",
       "    <tr>\n",
       "      <th>1</th>\n",
       "      <td>786.90</td>\n",
       "      <td>753.518494</td>\n",
       "    </tr>\n",
       "    <tr>\n",
       "      <th>2</th>\n",
       "      <td>794.02</td>\n",
       "      <td>753.531006</td>\n",
       "    </tr>\n",
       "    <tr>\n",
       "      <th>3</th>\n",
       "      <td>806.15</td>\n",
       "      <td>753.540100</td>\n",
       "    </tr>\n",
       "    <tr>\n",
       "      <th>4</th>\n",
       "      <td>806.65</td>\n",
       "      <td>753.544861</td>\n",
       "    </tr>\n",
       "    <tr>\n",
       "      <th>5</th>\n",
       "      <td>804.79</td>\n",
       "      <td>753.546265</td>\n",
       "    </tr>\n",
       "    <tr>\n",
       "      <th>6</th>\n",
       "      <td>807.91</td>\n",
       "      <td>753.545410</td>\n",
       "    </tr>\n",
       "    <tr>\n",
       "      <th>7</th>\n",
       "      <td>806.36</td>\n",
       "      <td>753.543152</td>\n",
       "    </tr>\n",
       "    <tr>\n",
       "      <th>8</th>\n",
       "      <td>807.88</td>\n",
       "      <td>753.540283</td>\n",
       "    </tr>\n",
       "    <tr>\n",
       "      <th>9</th>\n",
       "      <td>804.61</td>\n",
       "      <td>753.537292</td>\n",
       "    </tr>\n",
       "    <tr>\n",
       "      <th>10</th>\n",
       "      <td>806.07</td>\n",
       "      <td>753.534851</td>\n",
       "    </tr>\n",
       "    <tr>\n",
       "      <th>11</th>\n",
       "      <td>802.17</td>\n",
       "      <td>753.532898</td>\n",
       "    </tr>\n",
       "    <tr>\n",
       "      <th>12</th>\n",
       "      <td>805.02</td>\n",
       "      <td>753.531799</td>\n",
       "    </tr>\n",
       "    <tr>\n",
       "      <th>13</th>\n",
       "      <td>819.31</td>\n",
       "      <td>753.531128</td>\n",
       "    </tr>\n",
       "    <tr>\n",
       "      <th>14</th>\n",
       "      <td>823.87</td>\n",
       "      <td>753.529846</td>\n",
       "    </tr>\n",
       "    <tr>\n",
       "      <th>15</th>\n",
       "      <td>835.67</td>\n",
       "      <td>753.527893</td>\n",
       "    </tr>\n",
       "    <tr>\n",
       "      <th>16</th>\n",
       "      <td>832.15</td>\n",
       "      <td>753.525330</td>\n",
       "    </tr>\n",
       "    <tr>\n",
       "      <th>17</th>\n",
       "      <td>823.31</td>\n",
       "      <td>753.523865</td>\n",
       "    </tr>\n",
       "    <tr>\n",
       "      <th>18</th>\n",
       "      <td>802.32</td>\n",
       "      <td>753.525208</td>\n",
       "    </tr>\n",
       "    <tr>\n",
       "      <th>19</th>\n",
       "      <td>796.79</td>\n",
       "      <td>753.530640</td>\n",
       "    </tr>\n",
       "  </tbody>\n",
       "</table>\n",
       "</div>"
      ],
      "text/plain": [
       "     Close        pred\n",
       "0   786.14  753.503418\n",
       "1   786.90  753.518494\n",
       "2   794.02  753.531006\n",
       "3   806.15  753.540100\n",
       "4   806.65  753.544861\n",
       "5   804.79  753.546265\n",
       "6   807.91  753.545410\n",
       "7   806.36  753.543152\n",
       "8   807.88  753.540283\n",
       "9   804.61  753.537292\n",
       "10  806.07  753.534851\n",
       "11  802.17  753.532898\n",
       "12  805.02  753.531799\n",
       "13  819.31  753.531128\n",
       "14  823.87  753.529846\n",
       "15  835.67  753.527893\n",
       "16  832.15  753.525330\n",
       "17  823.31  753.523865\n",
       "18  802.32  753.525208\n",
       "19  796.79  753.530640"
      ]
     },
     "execution_count": 38,
     "metadata": {},
     "output_type": "execute_result"
    }
   ],
   "source": [
    "test_data"
   ]
  },
  {
   "cell_type": "code",
   "execution_count": 39,
   "id": "62281be6",
   "metadata": {},
   "outputs": [
    {
     "data": {
      "text/plain": [
       "<matplotlib.legend.Legend at 0x1b2a9fdb670>"
      ]
     },
     "execution_count": 39,
     "metadata": {},
     "output_type": "execute_result"
    },
    {
     "data": {
      "image/png": "[encoded data removed]",
      "text/plain": [
       "<Figure size 2000x1000 with 1 Axes>"
      ]
     },
     "metadata": {},
     "output_type": "display_data"
    }
   ],
   "source": [
    "# Plot the actual prices and predicting prices od stock\n",
    "plt.figure(figsize= (20,10))\n",
    "plt.plot(test_data['Close'], 'red', label= 'Actual Price')\n",
    "plt.plot(test_data['pred'], 'green', label= 'Predicted value')\n",
    "plt.xlabel('Date')\n",
    "plt.ylabel('Prices')\n",
    "plt.title('Real vs Predicted Prices')\n",
    "plt.legend(loc='best', fontsize=20)"
   ]
  },
  {
   "cell_type": "code",
   "execution_count": null,
   "id": "31ee47f5",
   "metadata": {},
   "outputs": [],
   "source": []
  }
 ],
 "metadata": {
  "kernelspec": {
   "display_name": "Python 3 (ipykernel)",
   "language": "python",
   "name": "python3"
  },
  "language_info": {
   "codemirror_mode": {
    "name": "ipython",
    "version": 3
   },
   "file_extension": ".py",
   "mimetype": "text/x-python",
   "name": "python",
   "nbconvert_exporter": "python",
   "pygments_lexer": "ipython3",
   "version": "3.10.9"
  }
 },
 "nbformat": 4,
 "nbformat_minor": 5
}
